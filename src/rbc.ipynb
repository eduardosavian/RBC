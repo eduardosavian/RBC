{
 "cells": [
  {
   "cell_type": "markdown",
   "metadata": {},
   "source": [
    "# Main"
   ]
  },
  {
   "cell_type": "code",
   "execution_count": 1,
   "metadata": {},
   "outputs": [],
   "source": [
    "import zipfile\n",
    "import pandas as pd"
   ]
  },
  {
   "cell_type": "code",
   "execution_count": 2,
   "metadata": {},
   "outputs": [],
   "source": [
    "archive = zipfile.ZipFile('data/car_prices_data.zip', 'r')\n",
    "df = pd.read_csv(archive.open('car_prices.csv'))"
   ]
  },
  {
   "cell_type": "code",
   "execution_count": 5,
   "metadata": {},
   "outputs": [],
   "source": [
    "drop_list = ['trim', 'vin', 'state', 'saledate', 'seller', 'mmr']\n",
    "\n",
    "df = df.drop(columns=drop_list, axis=1)\n",
    "\n",
    "df = df.rename(columns={'make': 'maker', 'sellingprice': 'price', 'color': 'exterior_color', 'interior': 'interior_color'})"
   ]
  },
  {
   "cell_type": "code",
   "execution_count": 6,
   "metadata": {},
   "outputs": [],
   "source": [
    "df = df.dropna(how='any')"
   ]
  },
  {
   "cell_type": "code",
   "execution_count": 12,
   "metadata": {},
   "outputs": [
    {
     "name": "stdout",
     "output_type": "stream",
     "text": [
      "['black', 'beige', 'tan', 'brown', '—', 'gray', 'burgundy', 'white', 'silver', 'off-white', 'red', 'yellow', 'green', 'purple', 'blue', 'orange', 'gold']\n"
     ]
    }
   ],
   "source": [
    "colors = [df[\"exterior_color\"].unique() for color in df.columns][0]\n",
    "colors2 = []\n",
    "for color in colors:\n",
    "    colors2.append(color.lower())\n",
    "print(colors2)\n",
    "\n",
    "color_map = {\n",
    "    \"write\": (255, 255, 255),\n",
    "    \"gray\": (128, 128, 128),\n",
    "    \"black\": (0, 0, 0),\n",
    "    \"red\": (255, 0, 0),\n",
    "    \"silver\": (192, 192, 192),\n",
    "    \"brown\": (165, 42, 42),\n",
    "    \"beige\": (245, 245, 200),\n",
    "    \"blue\": (0, 0, 255),\n",
    "    \"purple\": (128, 128, 128),\n",
    "    \"burgundy\": (0x80, 0, 0x20),\n",
    "    \"gold\": (255, 215, 0),\n",
    "    \"yellow\": (255, 255, 0),\n",
    "    \"green\": (0, 128, 0),\n",
    "    \"charcoal\": (54, 69, 79),\n",
    "    \"orange\": (255, 165, 0),\n",
    "    \"off-write\": (255, 255, 250),\n",
    "    \"turquoise\": (64, 224, 208),\n",
    "    \"pink\": (255, 192, 203),\n",
    "    \"lime\": (0, 255, 0)\n",
    "}"
   ]
  },
  {
   "cell_type": "code",
   "execution_count": 13,
   "metadata": {},
   "outputs": [
    {
     "name": "stdout",
     "output_type": "stream",
     "text": [
      "['black', 'beige', 'tan', 'brown', '—', 'gray', 'burgundy', 'white', 'silver', 'off-white', 'red', 'yellow', 'green', 'purple', 'blue', 'orange', 'gold']\n"
     ]
    }
   ],
   "source": [
    "colors = [df[\"interior_color\"].unique() for color in df.columns][0]\n",
    "colors2 = []\n",
    "for color in colors:\n",
    "    colors2.append(color.lower())\n",
    "print(colors2)\n",
    "\n",
    "color_map = {\n",
    "    \"write\": (255, 255, 255),\n",
    "    \"gray\": (128, 128, 128),\n",
    "    \"black\": (0, 0, 0),\n",
    "    \"red\": (255, 0, 0),\n",
    "    \"silver\": (192, 192, 192),\n",
    "    \"brown\": (165, 42, 42),\n",
    "    \"beige\": (245, 245, 200),\n",
    "    \"blue\": (0, 0, 255),\n",
    "    \"purple\": (128, 128, 128),\n",
    "    \"burgundy\": (0x80, 0, 0x20),\n",
    "    \"gold\": (255, 215, 0),\n",
    "    \"yellow\": (255, 255, 0),\n",
    "    \"green\": (0, 128, 0),\n",
    "    \"orange\": (255, 165, 0),\n",
    "    \"off-write\": (255, 255, 250),\n",
    "    \"tan\": (210, 180, 140)\n",
    "}"
   ]
  },
  {
   "cell_type": "code",
   "execution_count": 8,
   "metadata": {},
   "outputs": [],
   "source": [
    "dic_input = {\n",
    "    \"year\": 2017,\n",
    "    \"maker\": \"BMW\",\n",
    "    \"model\": \"X5\",\n",
    "    \"body\": \"SUV\",\n",
    "    \"transmission\": \"Automatic\",\n",
    "    \"odometer\": 10000,\n",
    "    \"condition\": \"Excellent\",\n",
    "    \"color\": \"White\",\n",
    "    \"interior\": \"Black\",\n",
    "}\n",
    "\n",
    "dic_weight = {\n",
    "    \"year\": 0.1,\n",
    "    \"maker\": 0.3,\n",
    "    \"model\": 0.05,\n",
    "    \"body\": 0.02,\n",
    "    \"transmission\": 0.02,\n",
    "    \"odometer\": 0.4,\n",
    "    \"condition\": 0.3,\n",
    "    \"exterior_color\": 0.25,\n",
    "    \"interior_color\": 0.05,\n",
    "}"
   ]
  },
  {
   "cell_type": "markdown",
   "metadata": {},
   "source": []
  },
  {
   "cell_type": "code",
   "execution_count": null,
   "metadata": {},
   "outputs": [],
   "source": []
  }
 ],
 "metadata": {
  "kernelspec": {
   "display_name": "Python 3",
   "language": "python",
   "name": "python3"
  },
  "language_info": {
   "codemirror_mode": {
    "name": "ipython",
    "version": 3
   },
   "file_extension": ".py",
   "mimetype": "text/x-python",
   "name": "python",
   "nbconvert_exporter": "python",
   "pygments_lexer": "ipython3",
   "version": "3.12.2"
  }
 },
 "nbformat": 4,
 "nbformat_minor": 2
}
