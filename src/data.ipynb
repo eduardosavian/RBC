{
 "cells": [
  {
   "cell_type": "code",
   "execution_count": 29,
   "metadata": {},
   "outputs": [],
   "source": [
    "import pandas as pd\n",
    "import numpy as np\n",
    "import zipfile"
   ]
  },
  {
   "cell_type": "code",
   "execution_count": 30,
   "metadata": {},
   "outputs": [],
   "source": [
    "def load_data(zip_name, file_name):\n",
    "    archive = zipfile.ZipFile(zip_name)\n",
    "    df = pd.read_csv(archive.open(file_name))\n",
    "\n",
    "    return df"
   ]
  },
  {
   "cell_type": "code",
   "execution_count": 36,
   "metadata": {},
   "outputs": [
    {
     "name": "stdout",
     "output_type": "stream",
     "text": [
      "['suv' 'sedan' 'convertible' 'coupe' 'wagon' 'hatchback' 'crew cab'\n",
      " 'g coupe' 'g sedan' 'elantra coupe' 'genesis coupe' 'minivan' 'van'\n",
      " 'double cab' 'crewmax cab' 'access cab' 'king cab' 'cts coupe'\n",
      " 'supercrew' 'e-series van' 'extended cab' 'supercab' 'g convertible'\n",
      " 'koup' 'regular cab' 'quad cab' 'cts-v coupe' 'g37 convertible'\n",
      " 'club cab' 'xtracab' 'q60 convertible' 'cts wagon' 'g37 coupe' 'mega cab'\n",
      " 'cab plus 4' 'q60 coupe' 'beetle convertible' 'tsx sport wagon'\n",
      " 'promaster cargo van' 'cab plus' 'granturismo convertible' 'cts-v wagon'\n",
      " 'ram van' 'transit van' 'regular-cab']\n",
      "45\n"
     ]
    }
   ],
   "source": [
    "df = load_data('car_prices.zip', 'car_prices.csv')\n",
    "\n",
    "\n",
    "\n",
    "df.dropna(axis=0, how=\"any\", inplace=True)\n",
    "\n",
    "\n",
    "unique_bodies = df['body'].dropna().str.lower().str.strip().unique()  # Drop NA values and clean strings\n",
    "print(unique_bodies)\n",
    "print(len(unique_bodies))  # Print the number of unique body types\n"
   ]
  },
  {
   "cell_type": "code",
   "execution_count": 37,
   "metadata": {},
   "outputs": [
    {
     "name": "stdout",
     "output_type": "stream",
     "text": [
      "['SUV' 'Sedan' 'Convertible' 'Coupe' 'Wagon' 'Hatchback' 'Crew Cab'\n",
      " 'G Coupe' 'G Sedan' 'Elantra Coupe' 'Genesis Coupe' 'Minivan' 'Van'\n",
      " 'Double Cab' 'CrewMax Cab' 'Access Cab' 'King Cab' 'CTS Coupe'\n",
      " 'SuperCrew' 'E-Series Van' 'Extended Cab' 'SuperCab' 'G Convertible'\n",
      " 'Koup' 'Regular Cab' 'Quad Cab' 'CTS-V Coupe' 'sedan' 'G37 Convertible'\n",
      " 'Club Cab' 'Xtracab' 'Q60 Convertible' 'CTS Wagon' 'G37 Coupe' 'Mega Cab'\n",
      " 'Cab Plus 4' 'Q60 Coupe' 'Beetle Convertible' 'TSX Sport Wagon'\n",
      " 'Promaster Cargo Van' 'Cab Plus' 'GranTurismo Convertible' 'CTS-V Wagon'\n",
      " 'Ram Van' 'convertible' 'minivan' 'Transit Van' 'van' 'regular-cab' 'suv'\n",
      " 'g sedan' 'g coupe' 'hatchback' 'king cab' 'supercrew' 'g convertible'\n",
      " 'coupe' 'crew cab' 'wagon' 'e-series van' 'regular cab' 'quad cab'\n",
      " 'g37 convertible' 'supercab' 'extended cab' 'crewmax cab' 'double cab'\n",
      " 'genesis coupe' 'access cab' 'mega cab' 'xtracab' 'beetle convertible'\n",
      " 'cts coupe' 'koup' 'club cab' 'elantra coupe' 'q60 coupe' 'cts-v coupe'\n",
      " 'transit van' 'granturismo convertible' 'tsx sport wagon'\n",
      " 'promaster cargo van' 'q60 convertible' 'cab plus 4' 'cts wagon']\n"
     ]
    }
   ],
   "source": [
    "\n",
    "\n",
    "def clean_body_types(body_type):\n",
    "\n",
    "    if isinstance(body_type, str):  # Check if the value is a string\n",
    "        body_type = (\n",
    "            body_type.strip().lower()\n",
    "        )  # Convert to lowercase and remove extra spaces\n",
    "        if body_type in [\"suv\", \"sport utility vehicle\"]:\n",
    "            return \"suv\"\n",
    "        elif body_type in [\n",
    "            \"sedan\",\n",
    "            \"saloon\",\n",
    "            \"hatchback\",\n",
    "            \"wagon\",\n",
    "            \"tsx sport wagon\",\n",
    "            \"estate\",\n",
    "            \"g sedan\",\n",
    "            \"cts wagon\"\n",
    "            \"cts-v wagon\"\n",
    "            \"CTS-V Wagon\",\n",
    "            \"CTS Wagon\",\n",
    "            \"cts wagon\"\n",
    "            \"cts-v wagon\"\n",
    "            \"ctsv wagon\",\n",
    "            \"cts-v wagon\"\n",
    "            \"CTS Wagon\",\n",
    "        ]:\n",
    "            return \"sedan\"\n",
    "        elif body_type in [\n",
    "            \"convertible\",\n",
    "            \"coupe\",\n",
    "            \"g coupe\",\n",
    "            \"elantra coupe\",\n",
    "            \"cts-v coupe\",\n",
    "            \"g37 coupe\",\n",
    "            \"g37 convertible\",\n",
    "            \"q60 coupe\",\n",
    "            \"q60 convertible\",\n",
    "            \"koup\",\n",
    "            \"genesis coupe\",\n",
    "            \"cts coupe\",\n",
    "            \"g convertible\",\n",
    "            \"granturismo convertible\",\n",
    "            \"beetle convertible\"\n",
    "        ]:\n",
    "            return \"convertible\"\n",
    "        elif body_type in [\n",
    "            \"van\",\n",
    "            \"minivan\",\n",
    "            \"e-series van\",\n",
    "            \"ram van\",\n",
    "            \"transit van\",\n",
    "            \"promaster cargo van\",\n",
    "        ]:\n",
    "            return \"van\"\n",
    "        elif body_type in [\n",
    "            \"crew cab\",\n",
    "            \"regular-cab\",\n",
    "            \"double cab\",\n",
    "            \"extended cab\",\n",
    "            \"regular cab\",\n",
    "            \"f-150\",\n",
    "            \"f150\",\n",
    "            \"f-150\",\n",
    "            \"supercrew\",\n",
    "            \"crewmax cab\",\n",
    "            \"access cab\",\n",
    "            \"king cab\",\n",
    "            \"quad cab\",\n",
    "            \"super cab\",\n",
    "            \"club cab\",\n",
    "            \"mega cab\",\n",
    "            \"xtracab\",\n",
    "            \"cab plus 4\",\n",
    "            \"cab plus\",\n",
    "            \"supercab\",\n",
    "        ]:\n",
    "            return \"cab\"  # Example category for various cab types\n",
    "        else:\n",
    "            return \"other\"  # Assign 'other' category for unknown types or unique categories\n",
    "    else:\n",
    "        return \"other\"  # Handle NaN values by assigning to 'other' category\n",
    "\n",
    "\n",
    "# Apply the clean_body_types function to the 'body' column\n",
    "\n",
    "\n",
    "df[\"clean\"] = df[\"body\"].apply(clean_body_types)\n",
    "\n",
    "print(df[\"body\"].unique())"
   ]
  },
  {
   "cell_type": "code",
   "execution_count": 33,
   "metadata": {},
   "outputs": [
    {
     "name": "stdout",
     "output_type": "stream",
     "text": [
      "['SUV' 'Sedan' 'Convertible' 'Coupe' 'Wagon' 'Hatchback' 'Crew Cab'\n",
      " 'G Coupe' 'G Sedan' 'Elantra Coupe' 'Genesis Coupe' 'Minivan' 'Van'\n",
      " 'Double Cab' 'CrewMax Cab' 'Access Cab' 'King Cab' 'CTS Coupe'\n",
      " 'SuperCrew' 'E-Series Van' 'Extended Cab' 'SuperCab' 'G Convertible'\n",
      " 'Koup' 'Regular Cab' 'Quad Cab' 'CTS-V Coupe' 'sedan' 'G37 Convertible'\n",
      " 'Club Cab' 'Xtracab' 'Q60 Convertible' 'CTS Wagon' 'G37 Coupe' 'Mega Cab'\n",
      " 'Cab Plus 4' 'Q60 Coupe' 'Beetle Convertible' 'TSX Sport Wagon'\n",
      " 'Promaster Cargo Van' 'Cab Plus' 'GranTurismo Convertible' 'CTS-V Wagon'\n",
      " 'Ram Van' 'convertible' 'minivan' 'Transit Van' 'van' 'regular-cab' 'suv'\n",
      " 'g sedan' 'g coupe' 'hatchback' 'king cab' 'supercrew' 'g convertible'\n",
      " 'coupe' 'crew cab' 'wagon' 'e-series van' 'regular cab' 'quad cab'\n",
      " 'g37 convertible' 'supercab' 'extended cab' 'crewmax cab' 'double cab'\n",
      " 'genesis coupe' 'access cab' 'mega cab' 'xtracab' 'beetle convertible'\n",
      " 'cts coupe' 'koup' 'club cab' 'elantra coupe' 'q60 coupe' 'cts-v coupe'\n",
      " 'transit van' 'granturismo convertible' 'tsx sport wagon'\n",
      " 'promaster cargo van' 'q60 convertible' 'cab plus 4' 'cts wagon']\n"
     ]
    }
   ],
   "source": [
    "print(df['body'].unique())\n"
   ]
  }
 ],
 "metadata": {
  "kernelspec": {
   "display_name": "Python 3",
   "language": "python",
   "name": "python3"
  },
  "language_info": {
   "codemirror_mode": {
    "name": "ipython",
    "version": 3
   },
   "file_extension": ".py",
   "mimetype": "text/x-python",
   "name": "python",
   "nbconvert_exporter": "python",
   "pygments_lexer": "ipython3",
   "version": "3.12.2"
  }
 },
 "nbformat": 4,
 "nbformat_minor": 2
}
